{
  "cells": [
    {
      "cell_type": "markdown",
      "metadata": {
        "id": "view-in-github",
        "colab_type": "text"
      },
      "source": [
        "<a href=\"https://colab.research.google.com/github/N3wBaz/MLzoomcamp/blob/main/hw3/homework3.ipynb\" target=\"_parent\"><img src=\"https://colab.research.google.com/assets/colab-badge.svg\" alt=\"Open In Colab\"/></a>"
      ]
    },
    {
      "cell_type": "code",
      "execution_count": 100,
      "metadata": {
        "id": "gGASSVjwuOAh"
      },
      "outputs": [],
      "source": [
        "import pandas as pd\n",
        "import numpy as np"
      ]
    },
    {
      "cell_type": "code",
      "execution_count": 2,
      "metadata": {
        "id": "_2nsuWPquOAl"
      },
      "outputs": [],
      "source": [
        "df = pd.read_csv('housing.csv')"
      ]
    },
    {
      "cell_type": "code",
      "execution_count": 3,
      "metadata": {
        "colab": {
          "base_uri": "https://localhost:8080/"
        },
        "id": "OZ8nx8LiuOAm",
        "outputId": "7eea2bf4-b811-4104-f0e6-8d940eb02bec"
      },
      "outputs": [
        {
          "output_type": "execute_result",
          "data": {
            "text/plain": [
              "Index(['longitude', 'latitude', 'housing_median_age', 'total_rooms',\n",
              "       'total_bedrooms', 'population', 'households', 'median_income',\n",
              "       'median_house_value', 'ocean_proximity'],\n",
              "      dtype='object')"
            ]
          },
          "metadata": {},
          "execution_count": 3
        }
      ],
      "source": [
        "df.columns"
      ]
    },
    {
      "cell_type": "code",
      "execution_count": 4,
      "metadata": {
        "id": "KAog1WcHuOAn"
      },
      "outputs": [],
      "source": [
        "df.fillna(0, inplace=True)"
      ]
    },
    {
      "cell_type": "code",
      "execution_count": 5,
      "metadata": {
        "id": "d2pzKeejuOAo"
      },
      "outputs": [],
      "source": [
        "df['rooms_per_household'] = df['total_rooms'] / df['households']"
      ]
    },
    {
      "cell_type": "code",
      "execution_count": 6,
      "metadata": {
        "id": "_zxKNRoLuOAo"
      },
      "outputs": [],
      "source": [
        "df['bedrooms_per_room'] = df['total_bedrooms'] / df['total_rooms']"
      ]
    },
    {
      "cell_type": "code",
      "execution_count": 7,
      "metadata": {
        "id": "L6nJxvPSuOAp"
      },
      "outputs": [],
      "source": [
        "df['population_per_household'] = df['population'] / df['households']"
      ]
    },
    {
      "cell_type": "code",
      "execution_count": 8,
      "metadata": {
        "colab": {
          "base_uri": "https://localhost:8080/"
        },
        "id": "5h6MuUmzuOAq",
        "outputId": "6fdd3158-21e8-4069-b530-50654f36cf4b"
      },
      "outputs": [
        {
          "output_type": "execute_result",
          "data": {
            "text/plain": [
              "0    <1H OCEAN\n",
              "dtype: object"
            ]
          },
          "metadata": {},
          "execution_count": 8
        }
      ],
      "source": [
        "df['ocean_proximity'].mode()"
      ]
    },
    {
      "cell_type": "code",
      "execution_count": 9,
      "metadata": {
        "id": "GeMLVNd4uOAq"
      },
      "outputs": [],
      "source": [
        "# for i in df.columns:\n",
        "# #     print(i)\n",
        "#     if i == 'ocean_proximity' or i == 'longitude':\n",
        "#         continue\n",
        "#     print(f\"{(df.corr()[i]).sort_values()[-2:-1]}\")"
      ]
    },
    {
      "cell_type": "code",
      "execution_count": 10,
      "metadata": {
        "colab": {
          "base_uri": "https://localhost:8080/"
        },
        "id": "TPt_6wdEuOAr",
        "outputId": "38f9740f-5445-46fc-9c26-a84b005d5461"
      },
      "outputs": [
        {
          "output_type": "execute_result",
          "data": {
            "text/plain": [
              "housing_median_age         -0.317063\n",
              "latitude                   -0.065318\n",
              "population_per_household   -0.028019\n",
              "median_income              -0.007295\n",
              "rooms_per_household         0.002717\n",
              "median_house_value          0.049148\n",
              "longitude                   0.068082\n",
              "bedrooms_per_room           0.122205\n",
              "population                  0.866266\n",
              "total_rooms                 0.920196\n",
              "households                  0.966507\n",
              "total_bedrooms              1.000000\n",
              "Name: total_bedrooms, dtype: float64"
            ]
          },
          "metadata": {},
          "execution_count": 10
        }
      ],
      "source": [
        "(df.corr()['total_bedrooms']).sort_values()"
      ]
    },
    {
      "cell_type": "code",
      "execution_count": 11,
      "metadata": {
        "colab": {
          "base_uri": "https://localhost:8080/"
        },
        "id": "V7jVa0rjuOAs",
        "outputId": "260afdf8-4287-476c-ff4e-6291676d13d0"
      },
      "outputs": [
        {
          "output_type": "execute_result",
          "data": {
            "text/plain": [
              "housing_median_age         -0.296244\n",
              "latitude                   -0.108785\n",
              "rooms_per_household        -0.072213\n",
              "median_house_value         -0.024650\n",
              "median_income               0.004834\n",
              "bedrooms_per_room           0.031397\n",
              "population_per_household    0.069863\n",
              "longitude                   0.099773\n",
              "total_rooms                 0.857126\n",
              "total_bedrooms              0.866266\n",
              "households                  0.907222\n",
              "population                  1.000000\n",
              "Name: population, dtype: float64"
            ]
          },
          "metadata": {},
          "execution_count": 11
        }
      ],
      "source": [
        "(df.corr()['population']).sort_values()"
      ]
    },
    {
      "cell_type": "code",
      "execution_count": 12,
      "metadata": {
        "colab": {
          "base_uri": "https://localhost:8080/"
        },
        "id": "aoHHMiQPuOAt",
        "outputId": "bcbd52e4-b7be-4015-99af-63d3d32827ec"
      },
      "outputs": [
        {
          "output_type": "execute_result",
          "data": {
            "text/plain": [
              "total_bedrooms             -0.028019\n",
              "households                 -0.027309\n",
              "total_rooms                -0.024581\n",
              "median_house_value         -0.023737\n",
              "rooms_per_household        -0.004852\n",
              "latitude                    0.002366\n",
              "longitude                   0.002476\n",
              "bedrooms_per_room           0.003047\n",
              "housing_median_age          0.013191\n",
              "median_income               0.018766\n",
              "population                  0.069863\n",
              "population_per_household    1.000000\n",
              "Name: population_per_household, dtype: float64"
            ]
          },
          "metadata": {},
          "execution_count": 12
        }
      ],
      "source": [
        "(df.corr()['population_per_household']).sort_values()"
      ]
    },
    {
      "cell_type": "code",
      "execution_count": 13,
      "metadata": {
        "id": "MNhlUYvquOAt"
      },
      "outputs": [],
      "source": [
        "def above_median(series):\n",
        "    \n",
        "    return 1 if series.median() > series else 0\n",
        "# df[]np.where(df['median_house_value'] > df['median_house_value'])"
      ]
    },
    {
      "cell_type": "code",
      "execution_count": 14,
      "metadata": {
        "id": "B61Irrc9uOAu"
      },
      "outputs": [],
      "source": [
        "df['above_average'] = (df['median_house_value'].mean() > df['median_house_value']).astype(int)"
      ]
    },
    {
      "cell_type": "code",
      "execution_count": 15,
      "metadata": {
        "colab": {
          "base_uri": "https://localhost:8080/"
        },
        "id": "bE6aZqR6uOAu",
        "outputId": "2ba04763-c23a-4a42-a4c0-971962bb2f78"
      },
      "outputs": [
        {
          "output_type": "execute_result",
          "data": {
            "text/plain": [
              "0        0\n",
              "1        0\n",
              "2        0\n",
              "3        0\n",
              "4        0\n",
              "        ..\n",
              "20635    1\n",
              "20636    1\n",
              "20637    1\n",
              "20638    1\n",
              "20639    1\n",
              "Name: above_average, Length: 20640, dtype: int64"
            ]
          },
          "metadata": {},
          "execution_count": 15
        }
      ],
      "source": [
        "df['above_average']"
      ]
    },
    {
      "cell_type": "code",
      "execution_count": 16,
      "metadata": {
        "id": "_ilffoEvuOAu"
      },
      "outputs": [],
      "source": [
        "from sklearn.model_selection import train_test_split"
      ]
    },
    {
      "cell_type": "code",
      "execution_count": 17,
      "metadata": {
        "id": "XWtxBhHyuOAv"
      },
      "outputs": [],
      "source": [
        "SEED = 42\n",
        "df_train, df_test_val = train_test_split(df, test_size=0.4, random_state=SEED)\n",
        "df_test, df_val = train_test_split(df_test_val, test_size=0.5, random_state=SEED)"
      ]
    },
    {
      "cell_type": "code",
      "execution_count": 18,
      "metadata": {
        "id": "UC63mSqcuOAv"
      },
      "outputs": [],
      "source": [
        "df_train = df_train.reset_index(drop=True)\n",
        "df_test = df_test.reset_index(drop=True)\n",
        "df_val = df_val.reset_index(drop=True)\n",
        "\n",
        "\n",
        "y_train = df_train['median_house_value'].values\n",
        "y_test = df_test['median_house_value'].values\n",
        "y_val = df_val['median_house_value'].values\n",
        "\n",
        "\n",
        "\n",
        "# y_train = y_train.reset_index(drop=True)\n",
        "\n"
      ]
    },
    {
      "cell_type": "code",
      "execution_count": 19,
      "metadata": {
        "id": "w8B00ODquOAw"
      },
      "outputs": [],
      "source": [
        "del df_train['median_house_value']\n",
        "del df_val['median_house_value']\n",
        "del df_test['median_house_value']"
      ]
    },
    {
      "cell_type": "code",
      "execution_count": 20,
      "metadata": {
        "colab": {
          "base_uri": "https://localhost:8080/"
        },
        "id": "1BHpRTjHuOAw",
        "outputId": "45c897e5-34bd-4755-abfd-408af01bafb1"
      },
      "outputs": [
        {
          "output_type": "execute_result",
          "data": {
            "text/plain": [
              "0.596172480620155"
            ]
          },
          "metadata": {},
          "execution_count": 20
        }
      ],
      "source": [
        "df_train['above_average'].mean()"
      ]
    },
    {
      "cell_type": "code",
      "execution_count": 21,
      "metadata": {
        "id": "KavUd4GeuOAx"
      },
      "outputs": [],
      "source": [
        "from sklearn.metrics import mutual_info_score"
      ]
    },
    {
      "cell_type": "code",
      "execution_count": 22,
      "metadata": {
        "colab": {
          "base_uri": "https://localhost:8080/"
        },
        "id": "XZsORRphuOAx",
        "outputId": "083ce710-5b48-45bd-ce8a-854b18fbb05b"
      },
      "outputs": [
        {
          "output_type": "execute_result",
          "data": {
            "text/plain": [
              "0.103"
            ]
          },
          "metadata": {},
          "execution_count": 22
        }
      ],
      "source": [
        "round(mutual_info_score(df_train['above_average'], df_train['ocean_proximity']), 3)"
      ]
    },
    {
      "cell_type": "code",
      "execution_count": 40,
      "metadata": {
        "colab": {
          "base_uri": "https://localhost:8080/"
        },
        "id": "3mnWIWkwuOAx",
        "outputId": "80614d73-6ca3-4171-d83d-d8e99f3370f2"
      },
      "outputs": [
        {
          "output_type": "execute_result",
          "data": {
            "text/plain": [
              "(4128, 57357)"
            ]
          },
          "metadata": {},
          "execution_count": 40
        }
      ],
      "source": [
        "# from sklearn.preprocessing import OneHotEncoder\n",
        "\n",
        "# one_hot_train = pd.get_dummies(df_train, columns = ['ocean_proximity'], drop_first=True)\n",
        "# one_hot_val = pd.get_dummies(df_val, columns = ['ocean_proximity'], drop_first=True)\n",
        "# one_hot_test = pd.get_dummies(df_test, columns = ['ocean_proximity'], drop_first=True)\n"
      ]
    },
    {
      "cell_type": "code",
      "source": [
        "# print(one_hot_train.columns)\n",
        "# print(one_hot_val.columns)\n",
        "# print(one_hot_test.columns)"
      ],
      "metadata": {
        "colab": {
          "base_uri": "https://localhost:8080/"
        },
        "id": "eUbaL4Ff1-Ps",
        "outputId": "275a4736-42c1-4dc9-b209-cd0287fc68f0"
      },
      "execution_count": 34,
      "outputs": [
        {
          "output_type": "stream",
          "name": "stdout",
          "text": [
            "Index(['longitude', 'latitude', 'housing_median_age', 'total_rooms',\n",
            "       'total_bedrooms', 'population', 'households', 'median_income',\n",
            "       'rooms_per_household', 'bedrooms_per_room', 'population_per_household',\n",
            "       'above_average', 'ocean_proximity_INLAND', 'ocean_proximity_ISLAND',\n",
            "       'ocean_proximity_NEAR BAY', 'ocean_proximity_NEAR OCEAN'],\n",
            "      dtype='object')\n",
            "Index(['longitude', 'latitude', 'housing_median_age', 'total_rooms',\n",
            "       'total_bedrooms', 'population', 'households', 'median_income',\n",
            "       'rooms_per_household', 'bedrooms_per_room', 'population_per_household',\n",
            "       'above_average', 'ocean_proximity_INLAND', 'ocean_proximity_NEAR BAY',\n",
            "       'ocean_proximity_NEAR OCEAN'],\n",
            "      dtype='object')\n",
            "Index(['longitude', 'latitude', 'housing_median_age', 'total_rooms',\n",
            "       'total_bedrooms', 'population', 'households', 'median_income',\n",
            "       'rooms_per_household', 'bedrooms_per_room', 'population_per_household',\n",
            "       'above_average', 'ocean_proximity_INLAND', 'ocean_proximity_ISLAND',\n",
            "       'ocean_proximity_NEAR BAY', 'ocean_proximity_NEAR OCEAN'],\n",
            "      dtype='object')\n"
          ]
        }
      ]
    },
    {
      "cell_type": "code",
      "execution_count": 25,
      "metadata": {
        "colab": {
          "base_uri": "https://localhost:8080/"
        },
        "id": "L0Y0QCaKuOAy",
        "outputId": "86769709-f8a5-46d3-bc1d-9efe344d6be5"
      },
      "outputs": [
        {
          "output_type": "stream",
          "name": "stdout",
          "text": [
            "<class 'pandas.core.frame.DataFrame'>\n",
            "RangeIndex: 12384 entries, 0 to 12383\n",
            "Data columns (total 16 columns):\n",
            " #   Column                      Non-Null Count  Dtype  \n",
            "---  ------                      --------------  -----  \n",
            " 0   longitude                   12384 non-null  float64\n",
            " 1   latitude                    12384 non-null  float64\n",
            " 2   housing_median_age          12384 non-null  float64\n",
            " 3   total_rooms                 12384 non-null  float64\n",
            " 4   total_bedrooms              12384 non-null  float64\n",
            " 5   population                  12384 non-null  float64\n",
            " 6   households                  12384 non-null  float64\n",
            " 7   median_income               12384 non-null  float64\n",
            " 8   rooms_per_household         12384 non-null  float64\n",
            " 9   bedrooms_per_room           12384 non-null  float64\n",
            " 10  population_per_household    12384 non-null  float64\n",
            " 11  above_average               12384 non-null  int64  \n",
            " 12  ocean_proximity_INLAND      12384 non-null  uint8  \n",
            " 13  ocean_proximity_ISLAND      12384 non-null  uint8  \n",
            " 14  ocean_proximity_NEAR BAY    12384 non-null  uint8  \n",
            " 15  ocean_proximity_NEAR OCEAN  12384 non-null  uint8  \n",
            "dtypes: float64(11), int64(1), uint8(4)\n",
            "memory usage: 1.2 MB\n"
          ]
        }
      ],
      "source": [
        "# one_hot_train.info()"
      ]
    },
    {
      "cell_type": "code",
      "execution_count": 41,
      "metadata": {
        "id": "L_5U6PgjuOAy"
      },
      "outputs": [],
      "source": [
        "from sklearn.feature_extraction import DictVectorizer"
      ]
    },
    {
      "cell_type": "code",
      "execution_count": 42,
      "metadata": {
        "id": "riw6rPewuOAy"
      },
      "outputs": [],
      "source": [
        "numerical = ['longitude', 'latitude', 'housing_median_age', 'total_rooms',\n",
        "             'total_bedrooms', 'population', 'households', 'median_income',\n",
        "             'rooms_per_household', 'bedrooms_per_room', 'population_per_household', 'above_average']\n",
        "categorical = ['ocean_proximity']"
      ]
    },
    {
      "cell_type": "code",
      "execution_count": 87,
      "metadata": {
        "id": "NpeKT9LkuOAy"
      },
      "outputs": [],
      "source": [
        "dv = DictVectorizer(sparse=False)\n",
        "\n",
        "train_dict = df_train[numerical + categorical].to_dict(orient='records')\n",
        "X_train = dv.fit_transform(train_dict)\n",
        "\n",
        "val_dict = df_val[numerical + categorical].to_dict(orient='records')\n",
        "test_dict = df_test[numerical + categorical].to_dict(orient='records')\n",
        "X_val = dv.transform(val_dict)\n",
        "X_test = dv.transform(test_dict)"
      ]
    },
    {
      "cell_type": "code",
      "execution_count": 88,
      "metadata": {
        "id": "OGEybAR-uOAz"
      },
      "outputs": [],
      "source": [
        "from sklearn.linear_model import LogisticRegression\n",
        "from sklearn.preprocessing import StandardScaler"
      ]
    },
    {
      "cell_type": "code",
      "source": [
        "scaler = StandardScaler()\n",
        "scaler.fit(X_train)\n",
        "X_train = scaler.transform(X_train)\n",
        "X_val = scaler.transform(X_val)\n",
        "X_test = scaler.transform(X_test)"
      ],
      "metadata": {
        "id": "NcIUhyHmI8dW"
      },
      "execution_count": 89,
      "outputs": []
    },
    {
      "cell_type": "code",
      "execution_count": 90,
      "metadata": {
        "colab": {
          "base_uri": "https://localhost:8080/"
        },
        "id": "zQFwEWt7uOAz",
        "outputId": "15d2c6da-7f11-4f1d-c2db-cf6ec4de2bb5"
      },
      "outputs": [
        {
          "output_type": "execute_result",
          "data": {
            "text/plain": [
              "LogisticRegression(random_state=42, solver='liblinear')"
            ]
          },
          "metadata": {},
          "execution_count": 90
        }
      ],
      "source": [
        "model = LogisticRegression(solver=\"liblinear\", C=1.0, max_iter=100, random_state=SEED)\n",
        "model.fit(X_train, y_train)\n",
        "# y_train.shape"
      ]
    },
    {
      "cell_type": "code",
      "source": [
        "model.predict(X_train)"
      ],
      "metadata": {
        "colab": {
          "base_uri": "https://localhost:8080/"
        },
        "id": "idD1hs7lKrJ7",
        "outputId": "be1f2a7f-c337-4437-fda2-1836bd483057"
      },
      "execution_count": 93,
      "outputs": [
        {
          "output_type": "execute_result",
          "data": {
            "text/plain": [
              "array([448100.,  53800., 111300., ..., 222100., 283500., 325000.])"
            ]
          },
          "metadata": {},
          "execution_count": 93
        }
      ]
    },
    {
      "cell_type": "code",
      "execution_count": 56,
      "metadata": {
        "id": "tr2fxXWQuOAz"
      },
      "outputs": [],
      "source": [
        "from sklearn.metrics import accuracy_score"
      ]
    },
    {
      "cell_type": "code",
      "source": [],
      "metadata": {
        "colab": {
          "base_uri": "https://localhost:8080/"
        },
        "id": "jHD6D2xkGzY_",
        "outputId": "a13be7fb-03dc-4096-ab8f-f1171968379c"
      },
      "execution_count": 82,
      "outputs": [
        {
          "output_type": "execute_result",
          "data": {
            "text/plain": [
              "array([[0.00000000e+00, 1.81818182e-01, 6.53000000e+02, ...,\n",
              "        5.81163859e+00, 6.90000000e+02, 3.79500000e+03],\n",
              "       [1.00000000e+00, 1.91666667e-01, 2.40000000e+01, ...,\n",
              "        1.00000000e+01, 4.60000000e+01, 2.40000000e+02],\n",
              "       [1.00000000e+00, 2.07034939e-01, 8.81000000e+02, ...,\n",
              "        4.80817253e+00, 8.77000000e+02, 4.23600000e+03],\n",
              "       ...,\n",
              "       [0.00000000e+00, 2.70823417e-01, 5.27000000e+02, ...,\n",
              "        3.98671727e+00, 5.69000000e+02, 2.10100000e+03],\n",
              "       [0.00000000e+00, 1.66993007e-01, 5.59000000e+02, ...,\n",
              "        6.39534884e+00, 5.97000000e+02, 3.57500000e+03],\n",
              "       [0.00000000e+00, 3.11168954e-01, 1.24200000e+03, ...,\n",
              "        3.40257649e+00, 1.31500000e+03, 4.22600000e+03]])"
            ]
          },
          "metadata": {},
          "execution_count": 82
        }
      ]
    },
    {
      "cell_type": "code",
      "execution_count": 114,
      "metadata": {
        "colab": {
          "base_uri": "https://localhost:8080/"
        },
        "id": "eAXMpB8SuOAz",
        "outputId": "72b46c1e-5537-4890-8f85-c57d0dae1f48"
      },
      "outputs": [
        {
          "output_type": "execute_result",
          "data": {
            "text/plain": [
              "0.05"
            ]
          },
          "metadata": {},
          "execution_count": 114
        }
      ],
      "source": [
        "round(accuracy_score(y_val, model.predict(X_val)), 2)"
      ]
    },
    {
      "cell_type": "code",
      "source": [],
      "metadata": {
        "id": "W3mUaHmRMQlZ"
      },
      "execution_count": null,
      "outputs": []
    }
  ],
  "metadata": {
    "kernelspec": {
      "display_name": "Python 3",
      "language": "python",
      "name": "python3"
    },
    "language_info": {
      "codemirror_mode": {
        "name": "ipython",
        "version": 3
      },
      "file_extension": ".py",
      "mimetype": "text/x-python",
      "name": "python",
      "nbconvert_exporter": "python",
      "pygments_lexer": "ipython3",
      "version": "3.8.3"
    },
    "colab": {
      "provenance": [],
      "include_colab_link": true
    }
  },
  "nbformat": 4,
  "nbformat_minor": 0
}