{
  "cells": [
    {
      "cell_type": "markdown",
      "metadata": {
        "id": "view-in-github",
        "colab_type": "text"
      },
      "source": [
        "<a href=\"https://colab.research.google.com/github/N3wBaz/MLzoomcamp/blob/main/hw3/homework3.ipynb\" target=\"_parent\"><img src=\"https://colab.research.google.com/assets/colab-badge.svg\" alt=\"Open In Colab\"/></a>"
      ]
    },
    {
      "cell_type": "code",
      "execution_count": 115,
      "metadata": {
        "id": "gGASSVjwuOAh"
      },
      "outputs": [],
      "source": [
        "import pandas as pd\n",
        "import numpy as np"
      ]
    },
    {
      "cell_type": "code",
      "execution_count": 116,
      "metadata": {
        "id": "_2nsuWPquOAl"
      },
      "outputs": [],
      "source": [
        "df = pd.read_csv('housing.csv')"
      ]
    },
    {
      "cell_type": "code",
      "execution_count": 117,
      "metadata": {
        "colab": {
          "base_uri": "https://localhost:8080/"
        },
        "id": "OZ8nx8LiuOAm",
        "outputId": "8f89d745-e2e6-44a3-fa24-496aa4a064c2"
      },
      "outputs": [
        {
          "output_type": "execute_result",
          "data": {
            "text/plain": [
              "Index(['longitude', 'latitude', 'housing_median_age', 'total_rooms',\n",
              "       'total_bedrooms', 'population', 'households', 'median_income',\n",
              "       'median_house_value', 'ocean_proximity'],\n",
              "      dtype='object')"
            ]
          },
          "metadata": {},
          "execution_count": 117
        }
      ],
      "source": [
        "df.columns"
      ]
    },
    {
      "cell_type": "code",
      "execution_count": 118,
      "metadata": {
        "id": "KAog1WcHuOAn"
      },
      "outputs": [],
      "source": [
        "df.fillna(0, inplace=True)"
      ]
    },
    {
      "cell_type": "code",
      "execution_count": 119,
      "metadata": {
        "id": "d2pzKeejuOAo"
      },
      "outputs": [],
      "source": [
        "df['rooms_per_household'] = df['total_rooms'] / df['households']"
      ]
    },
    {
      "cell_type": "code",
      "execution_count": 120,
      "metadata": {
        "id": "_zxKNRoLuOAo"
      },
      "outputs": [],
      "source": [
        "df['bedrooms_per_room'] = df['total_bedrooms'] / df['total_rooms']"
      ]
    },
    {
      "cell_type": "code",
      "execution_count": 121,
      "metadata": {
        "id": "L6nJxvPSuOAp"
      },
      "outputs": [],
      "source": [
        "df['population_per_household'] = df['population'] / df['households']"
      ]
    },
    {
      "cell_type": "code",
      "execution_count": 122,
      "metadata": {
        "colab": {
          "base_uri": "https://localhost:8080/"
        },
        "id": "5h6MuUmzuOAq",
        "outputId": "86206150-8f77-4310-bbc6-4a3ea2cd5090"
      },
      "outputs": [
        {
          "output_type": "execute_result",
          "data": {
            "text/plain": [
              "0    <1H OCEAN\n",
              "dtype: object"
            ]
          },
          "metadata": {},
          "execution_count": 122
        }
      ],
      "source": [
        "df['ocean_proximity'].mode()"
      ]
    },
    {
      "cell_type": "code",
      "execution_count": null,
      "metadata": {
        "id": "GeMLVNd4uOAq"
      },
      "outputs": [],
      "source": [
        "# for i in df.columns:\n",
        "# #     print(i)\n",
        "#     if i == 'ocean_proximity' or i == 'longitude':\n",
        "#         continue\n",
        "#     print(f\"{(df.corr()[i]).sort_values()[-2:-1]}\")"
      ]
    },
    {
      "cell_type": "code",
      "execution_count": 123,
      "metadata": {
        "colab": {
          "base_uri": "https://localhost:8080/"
        },
        "id": "TPt_6wdEuOAr",
        "outputId": "f37a8f5e-8c66-4416-96c5-0dbc3f3efa14"
      },
      "outputs": [
        {
          "output_type": "execute_result",
          "data": {
            "text/plain": [
              "housing_median_age         -0.317063\n",
              "latitude                   -0.065318\n",
              "population_per_household   -0.028019\n",
              "median_income              -0.007295\n",
              "rooms_per_household         0.002717\n",
              "median_house_value          0.049148\n",
              "longitude                   0.068082\n",
              "bedrooms_per_room           0.122205\n",
              "population                  0.866266\n",
              "total_rooms                 0.920196\n",
              "households                  0.966507\n",
              "total_bedrooms              1.000000\n",
              "Name: total_bedrooms, dtype: float64"
            ]
          },
          "metadata": {},
          "execution_count": 123
        }
      ],
      "source": [
        "(df.corr()['total_bedrooms']).sort_values()"
      ]
    },
    {
      "cell_type": "code",
      "execution_count": 124,
      "metadata": {
        "colab": {
          "base_uri": "https://localhost:8080/"
        },
        "id": "V7jVa0rjuOAs",
        "outputId": "ea4781dd-b039-4da9-91d5-1bc7adcd34d5"
      },
      "outputs": [
        {
          "output_type": "execute_result",
          "data": {
            "text/plain": [
              "housing_median_age         -0.296244\n",
              "latitude                   -0.108785\n",
              "rooms_per_household        -0.072213\n",
              "median_house_value         -0.024650\n",
              "median_income               0.004834\n",
              "bedrooms_per_room           0.031397\n",
              "population_per_household    0.069863\n",
              "longitude                   0.099773\n",
              "total_rooms                 0.857126\n",
              "total_bedrooms              0.866266\n",
              "households                  0.907222\n",
              "population                  1.000000\n",
              "Name: population, dtype: float64"
            ]
          },
          "metadata": {},
          "execution_count": 124
        }
      ],
      "source": [
        "(df.corr()['population']).sort_values()"
      ]
    },
    {
      "cell_type": "code",
      "execution_count": 126,
      "metadata": {
        "colab": {
          "base_uri": "https://localhost:8080/"
        },
        "id": "aoHHMiQPuOAt",
        "outputId": "97ff55f4-785d-46d2-fdf0-6c2edc296b98"
      },
      "outputs": [
        {
          "output_type": "execute_result",
          "data": {
            "text/plain": [
              "total_bedrooms             -0.028019\n",
              "households                 -0.027309\n",
              "total_rooms                -0.024581\n",
              "median_house_value         -0.023737\n",
              "rooms_per_household        -0.004852\n",
              "latitude                    0.002366\n",
              "longitude                   0.002476\n",
              "bedrooms_per_room           0.003047\n",
              "housing_median_age          0.013191\n",
              "median_income               0.018766\n",
              "population                  0.069863\n",
              "population_per_household    1.000000\n",
              "Name: population_per_household, dtype: float64"
            ]
          },
          "metadata": {},
          "execution_count": 126
        }
      ],
      "source": [
        "(df.corr()['population_per_household']).sort_values()"
      ]
    },
    {
      "cell_type": "code",
      "execution_count": 127,
      "metadata": {
        "id": "MNhlUYvquOAt"
      },
      "outputs": [],
      "source": [
        "def above_median(series):\n",
        "    \n",
        "    return 1 if series.median() > series else 0\n",
        "# df[]np.where(df['median_house_value'] > df['median_house_value'])"
      ]
    },
    {
      "cell_type": "code",
      "execution_count": 128,
      "metadata": {
        "id": "B61Irrc9uOAu"
      },
      "outputs": [],
      "source": [
        "df['above_average'] = (df['median_house_value'].mean() > df['median_house_value']).astype(int)"
      ]
    },
    {
      "cell_type": "code",
      "execution_count": 129,
      "metadata": {
        "colab": {
          "base_uri": "https://localhost:8080/"
        },
        "id": "bE6aZqR6uOAu",
        "outputId": "2cf9bdf3-8f3f-4e5d-d4b5-890a54e9a027"
      },
      "outputs": [
        {
          "output_type": "execute_result",
          "data": {
            "text/plain": [
              "0        0\n",
              "1        0\n",
              "2        0\n",
              "3        0\n",
              "4        0\n",
              "        ..\n",
              "20635    1\n",
              "20636    1\n",
              "20637    1\n",
              "20638    1\n",
              "20639    1\n",
              "Name: above_average, Length: 20640, dtype: int64"
            ]
          },
          "metadata": {},
          "execution_count": 129
        }
      ],
      "source": [
        "df['above_average']"
      ]
    },
    {
      "cell_type": "code",
      "execution_count": 131,
      "metadata": {
        "id": "_ilffoEvuOAu"
      },
      "outputs": [],
      "source": [
        "from sklearn.model_selection import train_test_split"
      ]
    },
    {
      "cell_type": "code",
      "execution_count": 138,
      "metadata": {
        "id": "XWtxBhHyuOAv"
      },
      "outputs": [],
      "source": [
        "SEED = 42\n",
        "df_train, df_test_val = train_test_split(df, test_size=0.4, random_state=SEED)\n",
        "df_test, df_val = train_test_split(df_test_val, test_size=0.5, random_state=SEED)"
      ]
    },
    {
      "cell_type": "code",
      "execution_count": 139,
      "metadata": {
        "id": "w8B00ODquOAw"
      },
      "outputs": [],
      "source": [
        "del df_train['median_house_value']\n",
        "del df_val['median_house_value']\n",
        "del df_test['median_house_value']"
      ]
    },
    {
      "cell_type": "code",
      "execution_count": 140,
      "metadata": {
        "id": "UC63mSqcuOAv"
      },
      "outputs": [],
      "source": [
        "df_train = df_train.reset_index(drop=True)\n",
        "df_test = df_test.reset_index(drop=True)\n",
        "df_val = df_val.reset_index(drop=True)\n",
        "\n",
        "\n",
        "y_train = df_train['above_average'].values\n",
        "y_test = df_test['above_average'].values\n",
        "y_val = df_val['above_average'].values\n",
        "\n",
        "\n",
        "\n",
        "\n",
        "# y_train = y_train.reset_index(drop=True)\n",
        "\n"
      ]
    },
    {
      "cell_type": "code",
      "execution_count": 141,
      "metadata": {
        "id": "KavUd4GeuOAx"
      },
      "outputs": [],
      "source": [
        "from sklearn.metrics import mutual_info_score"
      ]
    },
    {
      "cell_type": "code",
      "execution_count": 143,
      "metadata": {
        "colab": {
          "base_uri": "https://localhost:8080/"
        },
        "id": "XZsORRphuOAx",
        "outputId": "fe89f96d-f2cb-424e-b2e6-b6a05b7dde14"
      },
      "outputs": [
        {
          "output_type": "execute_result",
          "data": {
            "text/plain": [
              "0.103"
            ]
          },
          "metadata": {},
          "execution_count": 143
        }
      ],
      "source": [
        "round(mutual_info_score(df_train['above_average'], df_train['ocean_proximity']), 3)"
      ]
    },
    {
      "cell_type": "code",
      "source": [
        "del df_train['above_average']\n",
        "del df_val['above_average']\n",
        "del df_test['above_average']"
      ],
      "metadata": {
        "id": "rPWV0QQ-OrDP"
      },
      "execution_count": 144,
      "outputs": []
    },
    {
      "cell_type": "code",
      "execution_count": 145,
      "metadata": {
        "id": "3mnWIWkwuOAx"
      },
      "outputs": [],
      "source": [
        "# from sklearn.preprocessing import OneHotEncoder\n",
        "\n",
        "# one_hot_train = pd.get_dummies(df_train, columns = ['ocean_proximity'], drop_first=True)\n",
        "# one_hot_val = pd.get_dummies(df_val, columns = ['ocean_proximity'], drop_first=True)\n",
        "# one_hot_test = pd.get_dummies(df_test, columns = ['ocean_proximity'], drop_first=True)\n"
      ]
    },
    {
      "cell_type": "code",
      "source": [
        "# print(one_hot_train.columns)\n",
        "# print(one_hot_val.columns)\n",
        "# print(one_hot_test.columns)"
      ],
      "metadata": {
        "id": "eUbaL4Ff1-Ps"
      },
      "execution_count": 146,
      "outputs": []
    },
    {
      "cell_type": "code",
      "execution_count": 147,
      "metadata": {
        "id": "L0Y0QCaKuOAy"
      },
      "outputs": [],
      "source": [
        "# one_hot_train.info()"
      ]
    },
    {
      "cell_type": "code",
      "execution_count": 148,
      "metadata": {
        "id": "L_5U6PgjuOAy"
      },
      "outputs": [],
      "source": [
        "from sklearn.feature_extraction import DictVectorizer"
      ]
    },
    {
      "cell_type": "code",
      "execution_count": 170,
      "metadata": {
        "id": "riw6rPewuOAy"
      },
      "outputs": [],
      "source": [
        "numerical = ['longitude', 'latitude', 'housing_median_age', 'total_rooms',\n",
        "             'total_bedrooms', 'population', 'households', 'median_income',\n",
        "             'rooms_per_household', 'bedrooms_per_room', 'population_per_household']\n",
        "categorical = ['ocean_proximity']"
      ]
    },
    {
      "cell_type": "code",
      "execution_count": 171,
      "metadata": {
        "id": "NpeKT9LkuOAy"
      },
      "outputs": [],
      "source": [
        "dv = DictVectorizer(sparse=False)\n",
        "\n",
        "train_dict = df_train[numerical + categorical].to_dict(orient='records')\n",
        "X_train = dv.fit_transform(train_dict)\n",
        "\n",
        "val_dict = df_val[numerical + categorical].to_dict(orient='records')\n",
        "test_dict = df_test[numerical + categorical].to_dict(orient='records')\n",
        "X_val = dv.transform(val_dict)\n",
        "X_test = dv.transform(test_dict)"
      ]
    },
    {
      "cell_type": "code",
      "execution_count": 172,
      "metadata": {
        "id": "OGEybAR-uOAz"
      },
      "outputs": [],
      "source": [
        "from sklearn.linear_model import LogisticRegression\n",
        "from sklearn.preprocessing import StandardScaler"
      ]
    },
    {
      "cell_type": "code",
      "source": [
        "# scaler = StandardScaler()\n",
        "# scaler.fit(X_train)\n",
        "# X_train = scaler.transform(X_train)\n",
        "# X_val = scaler.transform(X_val)\n",
        "# X_test = scaler.transform(X_test)"
      ],
      "metadata": {
        "id": "NcIUhyHmI8dW"
      },
      "execution_count": null,
      "outputs": []
    },
    {
      "cell_type": "code",
      "execution_count": 173,
      "metadata": {
        "colab": {
          "base_uri": "https://localhost:8080/"
        },
        "id": "zQFwEWt7uOAz",
        "outputId": "1f21f08d-ad41-47d0-b979-591bedf6c0a7"
      },
      "outputs": [
        {
          "output_type": "execute_result",
          "data": {
            "text/plain": [
              "LogisticRegression(random_state=42, solver='liblinear')"
            ]
          },
          "metadata": {},
          "execution_count": 173
        }
      ],
      "source": [
        "model = LogisticRegression(solver=\"liblinear\", C=1.0, max_iter=100, random_state=SEED)\n",
        "model.fit(X_train, y_train)\n",
        "# y_train.shape"
      ]
    },
    {
      "cell_type": "code",
      "source": [
        "model.predict_proba(X_train)"
      ],
      "metadata": {
        "colab": {
          "base_uri": "https://localhost:8080/"
        },
        "id": "idD1hs7lKrJ7",
        "outputId": "fd86946f-bf43-4f73-dcdd-1bfa51c3bf6b"
      },
      "execution_count": 174,
      "outputs": [
        {
          "output_type": "execute_result",
          "data": {
            "text/plain": [
              "array([[0.96064227, 0.03935773],\n",
              "       [0.00242616, 0.99757384],\n",
              "       [0.04439927, 0.95560073],\n",
              "       ...,\n",
              "       [0.23438697, 0.76561303],\n",
              "       [0.81331863, 0.18668137],\n",
              "       [0.79141063, 0.20858937]])"
            ]
          },
          "metadata": {},
          "execution_count": 174
        }
      ]
    },
    {
      "cell_type": "code",
      "execution_count": 175,
      "metadata": {
        "id": "tr2fxXWQuOAz"
      },
      "outputs": [],
      "source": [
        "from sklearn.metrics import accuracy_score"
      ]
    },
    {
      "cell_type": "code",
      "execution_count": 178,
      "metadata": {
        "colab": {
          "base_uri": "https://localhost:8080/"
        },
        "id": "eAXMpB8SuOAz",
        "outputId": "6a6caa74-dd88-4cf2-c1e3-5f807eef7c03"
      },
      "outputs": [
        {
          "output_type": "execute_result",
          "data": {
            "text/plain": [
              "0.8406007751937985"
            ]
          },
          "metadata": {},
          "execution_count": 178
        }
      ],
      "source": [
        "acc = accuracy_score(y_val, model.predict(X_val))\n",
        "acc"
      ]
    },
    {
      "cell_type": "code",
      "source": [
        "# without total_rooms\n",
        "numerical = ['longitude', 'latitude', 'housing_median_age', \n",
        "             'total_bedrooms', 'population', 'households', 'median_income',\n",
        "             'rooms_per_household', 'bedrooms_per_room', 'population_per_household']\n",
        "categorical = ['ocean_proximity']\n",
        "\n",
        "dv = DictVectorizer(sparse=False)\n",
        "\n",
        "train_dict = df_train[numerical + categorical].to_dict(orient='records')\n",
        "X_train = dv.fit_transform(train_dict)\n",
        "\n",
        "val_dict = df_val[numerical + categorical].to_dict(orient='records')\n",
        "# test_dict = df_test[numerical + categorical].to_dict(orient='records')\n",
        "X_val = dv.transform(val_dict)\n",
        "# X_test = dv.transform(test_dict)\n",
        "\n",
        "model = LogisticRegression(solver=\"liblinear\", C=1.0, max_iter=100, random_state=SEED)\n",
        "model.fit(X_train, y_train)\n",
        "\n",
        "total_rooms_acc = accuracy_score(y_val, model.predict(X_val))\n",
        "total_rooms_acc"
      ],
      "metadata": {
        "id": "W3mUaHmRMQlZ",
        "colab": {
          "base_uri": "https://localhost:8080/"
        },
        "outputId": "77c82a74-7b06-47e9-d859-463802ab2e29"
      },
      "execution_count": 180,
      "outputs": [
        {
          "output_type": "execute_result",
          "data": {
            "text/plain": [
              "0.843265503875969"
            ]
          },
          "metadata": {},
          "execution_count": 180
        }
      ]
    },
    {
      "cell_type": "code",
      "source": [
        "# without total_bedrooms\n",
        "numerical = ['longitude', 'latitude', 'housing_median_age', 'total_rooms',\n",
        "             'population', 'households', 'median_income',\n",
        "             'rooms_per_household', 'bedrooms_per_room', 'population_per_household']\n",
        "categorical = ['ocean_proximity']\n",
        "\n",
        "dv = DictVectorizer(sparse=False)\n",
        "\n",
        "train_dict = df_train[numerical + categorical].to_dict(orient='records')\n",
        "X_train = dv.fit_transform(train_dict)\n",
        "\n",
        "val_dict = df_val[numerical + categorical].to_dict(orient='records')\n",
        "# test_dict = df_test[numerical + categorical].to_dict(orient='records')\n",
        "X_val = dv.transform(val_dict)\n",
        "# X_test = dv.transform(test_dict)\n",
        "\n",
        "model = LogisticRegression(solver=\"liblinear\", C=1.0, max_iter=100, random_state=SEED)\n",
        "model.fit(X_train, y_train)\n",
        "\n",
        "total_bedrooms_acc = accuracy_score(y_val, model.predict(X_val))\n",
        "total_bedrooms_acc"
      ],
      "metadata": {
        "colab": {
          "base_uri": "https://localhost:8080/"
        },
        "id": "xNdg7sthPpEX",
        "outputId": "ab511ce1-5ccb-41b3-e952-0118b8da4d41"
      },
      "execution_count": 181,
      "outputs": [
        {
          "output_type": "execute_result",
          "data": {
            "text/plain": [
              "0.8396317829457365"
            ]
          },
          "metadata": {},
          "execution_count": 181
        }
      ]
    },
    {
      "cell_type": "code",
      "source": [
        "# without population\n",
        "numerical = ['longitude', 'latitude', 'housing_median_age', 'total_rooms',\n",
        "              'households', 'median_income', 'total_bedrooms',\n",
        "             'rooms_per_household', 'bedrooms_per_room', 'population_per_household']\n",
        "categorical = ['ocean_proximity']\n",
        "\n",
        "dv = DictVectorizer(sparse=False)\n",
        "\n",
        "train_dict = df_train[numerical + categorical].to_dict(orient='records')\n",
        "X_train = dv.fit_transform(train_dict)\n",
        "\n",
        "val_dict = df_val[numerical + categorical].to_dict(orient='records')\n",
        "# test_dict = df_test[numerical + categorical].to_dict(orient='records')\n",
        "X_val = dv.transform(val_dict)\n",
        "# X_test = dv.transform(test_dict)\n",
        "\n",
        "model = LogisticRegression(solver=\"liblinear\", C=1.0, max_iter=100, random_state=SEED)\n",
        "model.fit(X_train, y_train)\n",
        "\n",
        "population_acc = accuracy_score(y_val, model.predict(X_val))\n",
        "population_acc"
      ],
      "metadata": {
        "colab": {
          "base_uri": "https://localhost:8080/"
        },
        "id": "2sC4d2aOQBNh",
        "outputId": "27533204-cab1-4123-b3b5-08bcecbdad48"
      },
      "execution_count": 182,
      "outputs": [
        {
          "output_type": "execute_result",
          "data": {
            "text/plain": [
              "0.8335755813953488"
            ]
          },
          "metadata": {},
          "execution_count": 182
        }
      ]
    },
    {
      "cell_type": "code",
      "source": [
        "# without households\n",
        "numerical = ['longitude', 'latitude', 'housing_median_age', 'total_rooms',\n",
        "              'population', 'median_income', 'total_bedrooms',\n",
        "             'rooms_per_household', 'bedrooms_per_room', 'population_per_household']\n",
        "categorical = ['ocean_proximity']\n",
        "\n",
        "dv = DictVectorizer(sparse=False)\n",
        "\n",
        "train_dict = df_train[numerical + categorical].to_dict(orient='records')\n",
        "X_train = dv.fit_transform(train_dict)\n",
        "\n",
        "val_dict = df_val[numerical + categorical].to_dict(orient='records')\n",
        "# test_dict = df_test[numerical + categorical].to_dict(orient='records')\n",
        "X_val = dv.transform(val_dict)\n",
        "# X_test = dv.transform(test_dict)\n",
        "\n",
        "model = LogisticRegression(solver=\"liblinear\", C=1.0, max_iter=100, random_state=SEED)\n",
        "model.fit(X_train, y_train)\n",
        "\n",
        "households_acc = accuracy_score(y_val, model.predict(X_val))\n",
        "households_acc"
      ],
      "metadata": {
        "colab": {
          "base_uri": "https://localhost:8080/"
        },
        "id": "dbSEMZqbQQuC",
        "outputId": "955b8fc3-2e0c-4e19-fba6-b5dee26076d1"
      },
      "execution_count": 184,
      "outputs": [
        {
          "output_type": "execute_result",
          "data": {
            "text/plain": [
              "0.8386627906976745"
            ]
          },
          "metadata": {},
          "execution_count": 184
        }
      ]
    },
    {
      "cell_type": "code",
      "source": [
        "print(acc - households_acc)\n",
        "print(acc - population_acc)\n",
        "print(acc - total_bedrooms_acc)\n",
        "print(acc - total_rooms_acc)"
      ],
      "metadata": {
        "colab": {
          "base_uri": "https://localhost:8080/"
        },
        "id": "sfyGZmQ5Q1qa",
        "outputId": "ca0a3114-12f8-4d13-ca29-93a0ad0d204d"
      },
      "execution_count": 185,
      "outputs": [
        {
          "output_type": "stream",
          "name": "stdout",
          "text": [
            "0.0019379844961240345\n",
            "0.00702519379844968\n",
            "0.0009689922480620172\n",
            "-0.002664728682170492\n"
          ]
        }
      ]
    },
    {
      "cell_type": "code",
      "source": [],
      "metadata": {
        "id": "aeCdthTyRlr2"
      },
      "execution_count": null,
      "outputs": []
    },
    {
      "cell_type": "code",
      "execution_count": 189,
      "metadata": {
        "id": "BKeMz8YaRmD-"
      },
      "outputs": [],
      "source": [
        "SEED = 42\n",
        "df_train, df_test_val = train_test_split(df, test_size=0.4, random_state=SEED)\n",
        "df_test, df_val = train_test_split(df_test_val, test_size=0.5, random_state=SEED)"
      ]
    },
    {
      "cell_type": "code",
      "execution_count": 190,
      "metadata": {
        "id": "fib6EnBlRmD_"
      },
      "outputs": [],
      "source": [
        "df_train = df_train.reset_index(drop=True)\n",
        "df_test = df_test.reset_index(drop=True)\n",
        "df_val = df_val.reset_index(drop=True)\n",
        "\n",
        "\n",
        "y_train = np.log(df_train['median_house_value'].values)\n",
        "y_test = np.log(df_test['median_house_value'].values)\n",
        "y_val = np.log(df_val['median_house_value'].values)\n",
        "\n",
        "\n",
        "\n",
        "\n",
        "# y_train = y_train.reset_index(drop=True)\n",
        "\n"
      ]
    },
    {
      "cell_type": "code",
      "execution_count": 191,
      "metadata": {
        "id": "CEHksmF4RmD_"
      },
      "outputs": [],
      "source": [
        "del df_train['median_house_value']\n",
        "del df_val['median_house_value']\n",
        "del df_test['median_house_value']"
      ]
    },
    {
      "cell_type": "code",
      "source": [
        "from sklearn.metrics import mean_squared_error"
      ],
      "metadata": {
        "id": "XxULhG9LSycB"
      },
      "execution_count": 194,
      "outputs": []
    },
    {
      "cell_type": "code",
      "source": [
        "from sklearn.linear_model import Ridge\n",
        "\n",
        "rmse = []\n",
        "for i in [0, 0.01, 0.1, 1, 10]:\n",
        "    ridge = Ridge(alpha=i)\n",
        "    ridge.fit(X_train, y_train)\n",
        "    rmse.append(round(mean_squared_error(y_val, ridge.predict(X_val), squared=False), 3))"
      ],
      "metadata": {
        "id": "p4toKbYQSMtX"
      },
      "execution_count": 197,
      "outputs": []
    },
    {
      "cell_type": "code",
      "source": [
        "rmse"
      ],
      "metadata": {
        "colab": {
          "base_uri": "https://localhost:8080/"
        },
        "id": "3bgJHjuzTd4M",
        "outputId": "8fb8a73a-bdb9-4f08-a5d9-f5a96f63a993"
      },
      "execution_count": 198,
      "outputs": [
        {
          "output_type": "execute_result",
          "data": {
            "text/plain": [
              "[0.338, 0.339, 0.339, 0.339, 0.338]"
            ]
          },
          "metadata": {},
          "execution_count": 198
        }
      ]
    }
  ],
  "metadata": {
    "kernelspec": {
      "display_name": "Python 3",
      "language": "python",
      "name": "python3"
    },
    "language_info": {
      "codemirror_mode": {
        "name": "ipython",
        "version": 3
      },
      "file_extension": ".py",
      "mimetype": "text/x-python",
      "name": "python",
      "nbconvert_exporter": "python",
      "pygments_lexer": "ipython3",
      "version": "3.8.3"
    },
    "colab": {
      "provenance": [],
      "include_colab_link": true
    }
  },
  "nbformat": 4,
  "nbformat_minor": 0
}