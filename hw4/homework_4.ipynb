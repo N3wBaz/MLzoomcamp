{
  "cells": [
    {
      "cell_type": "markdown",
      "metadata": {
        "id": "view-in-github",
        "colab_type": "text"
      },
      "source": [
        "<a href=\"https://colab.research.google.com/github/N3wBaz/MLzoomcamp/blob/main/hw4/homework_4.ipynb\" target=\"_parent\"><img src=\"https://colab.research.google.com/assets/colab-badge.svg\" alt=\"Open In Colab\"/></a>"
      ]
    },
    {
      "cell_type": "code",
      "execution_count": 24,
      "metadata": {
        "id": "WQJd18Wzpg2D"
      },
      "outputs": [],
      "source": [
        "import pandas as pd\n",
        "from sklearn.model_selection import train_test_split\n",
        "from sklearn.metrics import roc_curve\n",
        "from sklearn.metrics import auc\n",
        "from sklearn.metrics import roc_auc_score\n",
        "from sklearn.feature_extraction import DictVectorizer\n",
        "from sklearn.linear_model import LogisticRegression\n",
        "import numpy as np\n",
        "\n",
        "from matplotlib import pyplot as plt\n",
        "%matplotlib inline\n",
        "\n",
        "from sklearn.model_selection import KFold"
      ]
    },
    {
      "cell_type": "code",
      "execution_count": 84,
      "metadata": {
        "id": "-7to5txCpg2I"
      },
      "outputs": [],
      "source": [
        "df = pd.read_csv('AER_credit_card_data.csv')"
      ]
    },
    {
      "cell_type": "code",
      "execution_count": 85,
      "metadata": {
        "colab": {
          "base_uri": "https://localhost:8080/",
          "height": 424
        },
        "id": "2CiFyHK0pg2J",
        "outputId": "121c1653-9854-417f-d1f5-65b988ff8432"
      },
      "outputs": [
        {
          "output_type": "execute_result",
          "data": {
            "text/plain": [
              "     card  reports       age  income     share  expenditure owner selfemp  \\\n",
              "0     yes        0  37.66667  4.5200  0.033270   124.983300   yes      no   \n",
              "1     yes        0  33.25000  2.4200  0.005217     9.854167    no      no   \n",
              "2     yes        0  33.66667  4.5000  0.004156    15.000000   yes      no   \n",
              "3     yes        0  30.50000  2.5400  0.065214   137.869200    no      no   \n",
              "4     yes        0  32.16667  9.7867  0.067051   546.503300   yes      no   \n",
              "...   ...      ...       ...     ...       ...          ...   ...     ...   \n",
              "1314  yes        0  33.58333  4.5660  0.002146     7.333333   yes      no   \n",
              "1315   no        5  23.91667  3.1920  0.000376     0.000000    no      no   \n",
              "1316  yes        0  40.58333  4.6000  0.026513   101.298300   yes      no   \n",
              "1317  yes        0  32.83333  3.7000  0.008999    26.996670    no     yes   \n",
              "1318  yes        0  48.25000  3.7000  0.111619   344.157500   yes      no   \n",
              "\n",
              "      dependents  months  majorcards  active  \n",
              "0              3      54           1      12  \n",
              "1              3      34           1      13  \n",
              "2              4      58           1       5  \n",
              "3              0      25           1       7  \n",
              "4              2      64           1       5  \n",
              "...          ...     ...         ...     ...  \n",
              "1314           0      94           1      19  \n",
              "1315           3      12           1       5  \n",
              "1316           2       1           1       2  \n",
              "1317           0      60           1       7  \n",
              "1318           2       2           1       0  \n",
              "\n",
              "[1319 rows x 12 columns]"
            ],
            "text/html": [
              "\n",
              "  <div id=\"df-aeccda62-5542-4406-982a-f539fbb1b738\">\n",
              "    <div class=\"colab-df-container\">\n",
              "      <div>\n",
              "<style scoped>\n",
              "    .dataframe tbody tr th:only-of-type {\n",
              "        vertical-align: middle;\n",
              "    }\n",
              "\n",
              "    .dataframe tbody tr th {\n",
              "        vertical-align: top;\n",
              "    }\n",
              "\n",
              "    .dataframe thead th {\n",
              "        text-align: right;\n",
              "    }\n",
              "</style>\n",
              "<table border=\"1\" class=\"dataframe\">\n",
              "  <thead>\n",
              "    <tr style=\"text-align: right;\">\n",
              "      <th></th>\n",
              "      <th>card</th>\n",
              "      <th>reports</th>\n",
              "      <th>age</th>\n",
              "      <th>income</th>\n",
              "      <th>share</th>\n",
              "      <th>expenditure</th>\n",
              "      <th>owner</th>\n",
              "      <th>selfemp</th>\n",
              "      <th>dependents</th>\n",
              "      <th>months</th>\n",
              "      <th>majorcards</th>\n",
              "      <th>active</th>\n",
              "    </tr>\n",
              "  </thead>\n",
              "  <tbody>\n",
              "    <tr>\n",
              "      <th>0</th>\n",
              "      <td>yes</td>\n",
              "      <td>0</td>\n",
              "      <td>37.66667</td>\n",
              "      <td>4.5200</td>\n",
              "      <td>0.033270</td>\n",
              "      <td>124.983300</td>\n",
              "      <td>yes</td>\n",
              "      <td>no</td>\n",
              "      <td>3</td>\n",
              "      <td>54</td>\n",
              "      <td>1</td>\n",
              "      <td>12</td>\n",
              "    </tr>\n",
              "    <tr>\n",
              "      <th>1</th>\n",
              "      <td>yes</td>\n",
              "      <td>0</td>\n",
              "      <td>33.25000</td>\n",
              "      <td>2.4200</td>\n",
              "      <td>0.005217</td>\n",
              "      <td>9.854167</td>\n",
              "      <td>no</td>\n",
              "      <td>no</td>\n",
              "      <td>3</td>\n",
              "      <td>34</td>\n",
              "      <td>1</td>\n",
              "      <td>13</td>\n",
              "    </tr>\n",
              "    <tr>\n",
              "      <th>2</th>\n",
              "      <td>yes</td>\n",
              "      <td>0</td>\n",
              "      <td>33.66667</td>\n",
              "      <td>4.5000</td>\n",
              "      <td>0.004156</td>\n",
              "      <td>15.000000</td>\n",
              "      <td>yes</td>\n",
              "      <td>no</td>\n",
              "      <td>4</td>\n",
              "      <td>58</td>\n",
              "      <td>1</td>\n",
              "      <td>5</td>\n",
              "    </tr>\n",
              "    <tr>\n",
              "      <th>3</th>\n",
              "      <td>yes</td>\n",
              "      <td>0</td>\n",
              "      <td>30.50000</td>\n",
              "      <td>2.5400</td>\n",
              "      <td>0.065214</td>\n",
              "      <td>137.869200</td>\n",
              "      <td>no</td>\n",
              "      <td>no</td>\n",
              "      <td>0</td>\n",
              "      <td>25</td>\n",
              "      <td>1</td>\n",
              "      <td>7</td>\n",
              "    </tr>\n",
              "    <tr>\n",
              "      <th>4</th>\n",
              "      <td>yes</td>\n",
              "      <td>0</td>\n",
              "      <td>32.16667</td>\n",
              "      <td>9.7867</td>\n",
              "      <td>0.067051</td>\n",
              "      <td>546.503300</td>\n",
              "      <td>yes</td>\n",
              "      <td>no</td>\n",
              "      <td>2</td>\n",
              "      <td>64</td>\n",
              "      <td>1</td>\n",
              "      <td>5</td>\n",
              "    </tr>\n",
              "    <tr>\n",
              "      <th>...</th>\n",
              "      <td>...</td>\n",
              "      <td>...</td>\n",
              "      <td>...</td>\n",
              "      <td>...</td>\n",
              "      <td>...</td>\n",
              "      <td>...</td>\n",
              "      <td>...</td>\n",
              "      <td>...</td>\n",
              "      <td>...</td>\n",
              "      <td>...</td>\n",
              "      <td>...</td>\n",
              "      <td>...</td>\n",
              "    </tr>\n",
              "    <tr>\n",
              "      <th>1314</th>\n",
              "      <td>yes</td>\n",
              "      <td>0</td>\n",
              "      <td>33.58333</td>\n",
              "      <td>4.5660</td>\n",
              "      <td>0.002146</td>\n",
              "      <td>7.333333</td>\n",
              "      <td>yes</td>\n",
              "      <td>no</td>\n",
              "      <td>0</td>\n",
              "      <td>94</td>\n",
              "      <td>1</td>\n",
              "      <td>19</td>\n",
              "    </tr>\n",
              "    <tr>\n",
              "      <th>1315</th>\n",
              "      <td>no</td>\n",
              "      <td>5</td>\n",
              "      <td>23.91667</td>\n",
              "      <td>3.1920</td>\n",
              "      <td>0.000376</td>\n",
              "      <td>0.000000</td>\n",
              "      <td>no</td>\n",
              "      <td>no</td>\n",
              "      <td>3</td>\n",
              "      <td>12</td>\n",
              "      <td>1</td>\n",
              "      <td>5</td>\n",
              "    </tr>\n",
              "    <tr>\n",
              "      <th>1316</th>\n",
              "      <td>yes</td>\n",
              "      <td>0</td>\n",
              "      <td>40.58333</td>\n",
              "      <td>4.6000</td>\n",
              "      <td>0.026513</td>\n",
              "      <td>101.298300</td>\n",
              "      <td>yes</td>\n",
              "      <td>no</td>\n",
              "      <td>2</td>\n",
              "      <td>1</td>\n",
              "      <td>1</td>\n",
              "      <td>2</td>\n",
              "    </tr>\n",
              "    <tr>\n",
              "      <th>1317</th>\n",
              "      <td>yes</td>\n",
              "      <td>0</td>\n",
              "      <td>32.83333</td>\n",
              "      <td>3.7000</td>\n",
              "      <td>0.008999</td>\n",
              "      <td>26.996670</td>\n",
              "      <td>no</td>\n",
              "      <td>yes</td>\n",
              "      <td>0</td>\n",
              "      <td>60</td>\n",
              "      <td>1</td>\n",
              "      <td>7</td>\n",
              "    </tr>\n",
              "    <tr>\n",
              "      <th>1318</th>\n",
              "      <td>yes</td>\n",
              "      <td>0</td>\n",
              "      <td>48.25000</td>\n",
              "      <td>3.7000</td>\n",
              "      <td>0.111619</td>\n",
              "      <td>344.157500</td>\n",
              "      <td>yes</td>\n",
              "      <td>no</td>\n",
              "      <td>2</td>\n",
              "      <td>2</td>\n",
              "      <td>1</td>\n",
              "      <td>0</td>\n",
              "    </tr>\n",
              "  </tbody>\n",
              "</table>\n",
              "<p>1319 rows × 12 columns</p>\n",
              "</div>\n",
              "      <button class=\"colab-df-convert\" onclick=\"convertToInteractive('df-aeccda62-5542-4406-982a-f539fbb1b738')\"\n",
              "              title=\"Convert this dataframe to an interactive table.\"\n",
              "              style=\"display:none;\">\n",
              "        \n",
              "  <svg xmlns=\"http://www.w3.org/2000/svg\" height=\"24px\"viewBox=\"0 0 24 24\"\n",
              "       width=\"24px\">\n",
              "    <path d=\"M0 0h24v24H0V0z\" fill=\"none\"/>\n",
              "    <path d=\"M18.56 5.44l.94 2.06.94-2.06 2.06-.94-2.06-.94-.94-2.06-.94 2.06-2.06.94zm-11 1L8.5 8.5l.94-2.06 2.06-.94-2.06-.94L8.5 2.5l-.94 2.06-2.06.94zm10 10l.94 2.06.94-2.06 2.06-.94-2.06-.94-.94-2.06-.94 2.06-2.06.94z\"/><path d=\"M17.41 7.96l-1.37-1.37c-.4-.4-.92-.59-1.43-.59-.52 0-1.04.2-1.43.59L10.3 9.45l-7.72 7.72c-.78.78-.78 2.05 0 2.83L4 21.41c.39.39.9.59 1.41.59.51 0 1.02-.2 1.41-.59l7.78-7.78 2.81-2.81c.8-.78.8-2.07 0-2.86zM5.41 20L4 18.59l7.72-7.72 1.47 1.35L5.41 20z\"/>\n",
              "  </svg>\n",
              "      </button>\n",
              "      \n",
              "  <style>\n",
              "    .colab-df-container {\n",
              "      display:flex;\n",
              "      flex-wrap:wrap;\n",
              "      gap: 12px;\n",
              "    }\n",
              "\n",
              "    .colab-df-convert {\n",
              "      background-color: #E8F0FE;\n",
              "      border: none;\n",
              "      border-radius: 50%;\n",
              "      cursor: pointer;\n",
              "      display: none;\n",
              "      fill: #1967D2;\n",
              "      height: 32px;\n",
              "      padding: 0 0 0 0;\n",
              "      width: 32px;\n",
              "    }\n",
              "\n",
              "    .colab-df-convert:hover {\n",
              "      background-color: #E2EBFA;\n",
              "      box-shadow: 0px 1px 2px rgba(60, 64, 67, 0.3), 0px 1px 3px 1px rgba(60, 64, 67, 0.15);\n",
              "      fill: #174EA6;\n",
              "    }\n",
              "\n",
              "    [theme=dark] .colab-df-convert {\n",
              "      background-color: #3B4455;\n",
              "      fill: #D2E3FC;\n",
              "    }\n",
              "\n",
              "    [theme=dark] .colab-df-convert:hover {\n",
              "      background-color: #434B5C;\n",
              "      box-shadow: 0px 1px 3px 1px rgba(0, 0, 0, 0.15);\n",
              "      filter: drop-shadow(0px 1px 2px rgba(0, 0, 0, 0.3));\n",
              "      fill: #FFFFFF;\n",
              "    }\n",
              "  </style>\n",
              "\n",
              "      <script>\n",
              "        const buttonEl =\n",
              "          document.querySelector('#df-aeccda62-5542-4406-982a-f539fbb1b738 button.colab-df-convert');\n",
              "        buttonEl.style.display =\n",
              "          google.colab.kernel.accessAllowed ? 'block' : 'none';\n",
              "\n",
              "        async function convertToInteractive(key) {\n",
              "          const element = document.querySelector('#df-aeccda62-5542-4406-982a-f539fbb1b738');\n",
              "          const dataTable =\n",
              "            await google.colab.kernel.invokeFunction('convertToInteractive',\n",
              "                                                     [key], {});\n",
              "          if (!dataTable) return;\n",
              "\n",
              "          const docLinkHtml = 'Like what you see? Visit the ' +\n",
              "            '<a target=\"_blank\" href=https://colab.research.google.com/notebooks/data_table.ipynb>data table notebook</a>'\n",
              "            + ' to learn more about interactive tables.';\n",
              "          element.innerHTML = '';\n",
              "          dataTable['output_type'] = 'display_data';\n",
              "          await google.colab.output.renderOutput(dataTable, element);\n",
              "          const docLink = document.createElement('div');\n",
              "          docLink.innerHTML = docLinkHtml;\n",
              "          element.appendChild(docLink);\n",
              "        }\n",
              "      </script>\n",
              "    </div>\n",
              "  </div>\n",
              "  "
            ]
          },
          "metadata": {},
          "execution_count": 85
        }
      ],
      "source": [
        "df"
      ]
    },
    {
      "cell_type": "code",
      "execution_count": 86,
      "metadata": {
        "id": "2Ld5b1oHpg2K"
      },
      "outputs": [],
      "source": [
        "df['target'] = df['card'].apply(lambda x: 1 if x=='yes' else 0)"
      ]
    },
    {
      "cell_type": "code",
      "execution_count": 87,
      "metadata": {
        "colab": {
          "base_uri": "https://localhost:8080/"
        },
        "id": "w_V0-MGupg2K",
        "outputId": "340266a4-7dbb-416c-e131-f1cc679d6b8f"
      },
      "outputs": [
        {
          "output_type": "execute_result",
          "data": {
            "text/plain": [
              "0       1\n",
              "1       1\n",
              "2       1\n",
              "3       1\n",
              "4       1\n",
              "       ..\n",
              "1314    1\n",
              "1315    0\n",
              "1316    1\n",
              "1317    1\n",
              "1318    1\n",
              "Name: target, Length: 1319, dtype: int64"
            ]
          },
          "metadata": {},
          "execution_count": 87
        }
      ],
      "source": [
        "df['target']"
      ]
    },
    {
      "cell_type": "code",
      "execution_count": 88,
      "metadata": {
        "id": "EAY8-q2zpg2L"
      },
      "outputs": [],
      "source": [
        "df_train, df_val = train_test_split(df, test_size=0.4, random_state=1)\n",
        "df_val, df_test = train_test_split(df_val, test_size=0.5, random_state=1)\n",
        "\n",
        "y_train = df_train['target']\n",
        "y_val = df_val['target']\n",
        "y_test = df_test['target']\n",
        "\n",
        "del df_train['target']\n",
        "del df_val['target']\n",
        "del df_test['target']\n",
        "\n",
        "del df_train['card']\n",
        "del df_val['card']\n",
        "del df_test['card']"
      ]
    },
    {
      "cell_type": "code",
      "source": [
        "df_train.shape"
      ],
      "metadata": {
        "colab": {
          "base_uri": "https://localhost:8080/"
        },
        "id": "ooqTXN8l26a1",
        "outputId": "4d407d79-bd7c-4de8-e2eb-82a88350ab99"
      },
      "execution_count": 89,
      "outputs": [
        {
          "output_type": "execute_result",
          "data": {
            "text/plain": [
              "(791, 11)"
            ]
          },
          "metadata": {},
          "execution_count": 89
        }
      ]
    },
    {
      "cell_type": "markdown",
      "metadata": {
        "id": "1kDePbCfpg2M"
      },
      "source": [
        "## Q1"
      ]
    },
    {
      "cell_type": "code",
      "source": [
        "from sklearn.metrics import auc"
      ],
      "metadata": {
        "id": "1IpQ8ld0yTO9"
      },
      "execution_count": 90,
      "outputs": []
    },
    {
      "cell_type": "code",
      "execution_count": 91,
      "metadata": {
        "colab": {
          "base_uri": "https://localhost:8080/"
        },
        "id": "Fu_y0ckNpg2O",
        "outputId": "4af335e8-a4b2-4177-9707-8dc2fc5d983e"
      },
      "outputs": [
        {
          "output_type": "stream",
          "name": "stdout",
          "text": [
            "AUC reports  :  0.7019859488035615\n",
            "AUC dependents  :  0.522894059543684\n",
            "AUC active  :  0.6002017250973846\n",
            "AUC share  :  0.5\n"
          ]
        }
      ],
      "source": [
        "def tpr_fpr_dataframe(y_val, y_pred):\n",
        "    scores = []\n",
        "\n",
        "    t = y_pred.mean()/2\n",
        "\n",
        "    for t in range(len(y_val)):\n",
        "        actual_positive = (y_val == 1)\n",
        "        actual_negative = (y_val == 0)\n",
        "\n",
        "        predict_positive = (y_pred >= t)\n",
        "        predict_negative = (y_pred < t)\n",
        "\n",
        "        tp = (predict_positive & actual_positive).sum()\n",
        "        tn = (predict_negative & actual_negative).sum()\n",
        "\n",
        "        fp = (predict_positive & actual_negative).sum()\n",
        "        fn = (predict_negative & actual_positive).sum()\n",
        "        scores.append((t, tp, fp, fn, tn))\n",
        "\n",
        "    columns = ['threshold', 'tp', 'fp', 'fn', 'tn']\n",
        "    df_scores = pd.DataFrame(scores, columns=columns)\n",
        "\n",
        "    df_scores['tpr'] = df_scores.tp / (df_scores.tp + df_scores.fn)\n",
        "    df_scores['fpr'] = df_scores.fp / (df_scores.fp + df_scores.tn)\n",
        "\n",
        "    \n",
        "    return df_scores\n",
        "    # return auc(df_scores['fpr'], df_scores['tpr'])\n",
        "\n",
        "\n",
        "\n",
        "numerical = ['reports', 'dependents', 'active', 'share']\n",
        "for i in numerical:\n",
        "    # print(roc_auc_score(df_train[i] < df_train[i].mean(), y_train))\n",
        "    tpr_fpr = tpr_fpr_dataframe(y_train, df_train[i])\n",
        "    score = auc(tpr_fpr['fpr'], tpr_fpr['tpr'])\n",
        "    if score < 0.5:\n",
        "        score = 1 - score\n",
        "    print(f\"AUC {i}  :  {score}\")\n"
      ]
    },
    {
      "cell_type": "markdown",
      "metadata": {
        "id": "-Nyjp5c5pg2P"
      },
      "source": [
        "## Q2"
      ]
    },
    {
      "cell_type": "code",
      "execution_count": 92,
      "metadata": {
        "id": "B4ZqP0Pjpg2P"
      },
      "outputs": [],
      "source": [
        "features = [\"reports\", \"age\", \"income\", \"share\", \"expenditure\", \"dependents\", \"months\",\n",
        "            \"majorcards\", \"active\", \"owner\", \"selfemp\"]\n",
        "\n",
        "train_dict = df_train[features].to_dict(orient='records')\n",
        "\n",
        "dv = DictVectorizer(sparse=True)\n",
        "dv.fit(train_dict)\n",
        "\n",
        "X_train = dv.transform(train_dict)\n",
        "# df_train[features]"
      ]
    },
    {
      "cell_type": "code",
      "execution_count": 93,
      "metadata": {
        "colab": {
          "base_uri": "https://localhost:8080/"
        },
        "id": "WQ_MKH84pg2Q",
        "outputId": "1e31664a-43af-4f7c-bdd9-1ff927d9d4dc"
      },
      "outputs": [
        {
          "output_type": "execute_result",
          "data": {
            "text/plain": [
              "LogisticRegression(max_iter=1000, random_state=1, solver='liblinear')"
            ]
          },
          "metadata": {},
          "execution_count": 93
        }
      ],
      "source": [
        "model = LogisticRegression(solver='liblinear', C=1.0, random_state=1, max_iter=1000)\n",
        "model.fit(X_train, y_train)"
      ]
    },
    {
      "cell_type": "code",
      "execution_count": 94,
      "metadata": {
        "id": "V7eVCl47pg2R"
      },
      "outputs": [],
      "source": [
        "val_dict = df_val[features].to_dict(orient='records')\n",
        "X_val = dv.transform(val_dict)\n",
        "y_pred = model.predict_proba(X_val)[:, 1]"
      ]
    },
    {
      "cell_type": "code",
      "execution_count": 95,
      "metadata": {
        "colab": {
          "base_uri": "https://localhost:8080/"
        },
        "id": "byf3uJhvpg2R",
        "outputId": "03196ff0-85e7-4835-d134-da723d1ca8ed"
      },
      "outputs": [
        {
          "output_type": "execute_result",
          "data": {
            "text/plain": [
              "0.9285714285714286"
            ]
          },
          "metadata": {},
          "execution_count": 95
        }
      ],
      "source": [
        "# roc_auc_score(y_pred >= 0.5, y_val)\n",
        "tpr_fpr = tpr_fpr_dataframe(y_val, y_pred)\n",
        "score = auc(tpr_fpr['fpr'], tpr_fpr['tpr'])\n",
        "score"
      ]
    },
    {
      "cell_type": "markdown",
      "metadata": {
        "id": "DIqRsXXRpg2S"
      },
      "source": [
        "## Q3"
      ]
    },
    {
      "cell_type": "code",
      "execution_count": 96,
      "metadata": {
        "id": "ahPvQA15pg2S"
      },
      "outputs": [],
      "source": [
        "thresholds = np.arange(0, 1, 0.01)"
      ]
    },
    {
      "cell_type": "code",
      "execution_count": 97,
      "metadata": {
        "colab": {
          "base_uri": "https://localhost:8080/"
        },
        "id": "R4EoBeD2pg2S",
        "outputId": "2ee3c429-7335-4cfe-fccd-177c93a9e2d3"
      },
      "outputs": [
        {
          "output_type": "execute_result",
          "data": {
            "text/plain": [
              "array([0.  , 0.01, 0.02, 0.03, 0.04, 0.05, 0.06, 0.07, 0.08, 0.09, 0.1 ,\n",
              "       0.11, 0.12, 0.13, 0.14, 0.15, 0.16, 0.17, 0.18, 0.19, 0.2 , 0.21,\n",
              "       0.22, 0.23, 0.24, 0.25, 0.26, 0.27, 0.28, 0.29, 0.3 , 0.31, 0.32,\n",
              "       0.33, 0.34, 0.35, 0.36, 0.37, 0.38, 0.39, 0.4 , 0.41, 0.42, 0.43,\n",
              "       0.44, 0.45, 0.46, 0.47, 0.48, 0.49, 0.5 , 0.51, 0.52, 0.53, 0.54,\n",
              "       0.55, 0.56, 0.57, 0.58, 0.59, 0.6 , 0.61, 0.62, 0.63, 0.64, 0.65,\n",
              "       0.66, 0.67, 0.68, 0.69, 0.7 , 0.71, 0.72, 0.73, 0.74, 0.75, 0.76,\n",
              "       0.77, 0.78, 0.79, 0.8 , 0.81, 0.82, 0.83, 0.84, 0.85, 0.86, 0.87,\n",
              "       0.88, 0.89, 0.9 , 0.91, 0.92, 0.93, 0.94, 0.95, 0.96, 0.97, 0.98,\n",
              "       0.99])"
            ]
          },
          "metadata": {},
          "execution_count": 97
        }
      ],
      "source": [
        "thresholds"
      ]
    },
    {
      "cell_type": "code",
      "execution_count": 98,
      "metadata": {
        "id": "q7sVlixjpg2T"
      },
      "outputs": [],
      "source": [
        "\n",
        "# prec = []\n",
        "# reca = []\n",
        "# for threshold in thresholds:\n",
        "#     true_positive = ((y_pred >= threshold) & (y_val == 1)).sum()\n",
        "#     false_positive = ((y_pred >= threshold) & (y_val == 0)).sum()\n",
        "#     false_negative = ((y_pred < threshold) & (y_val == 1)).sum()\n",
        "#     true_negative = ((y_pred < threshold) & (y_val == 0)).sum()\n",
        "#     precision = true_positive / (true_positive + false_positive)\n",
        "#     recall = true_positive / (true_positive + false_negative)\n",
        "#     prec.append(precision)\n",
        "#     reca.append(recall)\n",
        "# #     for_valid['threshold'] = threshold\n",
        "# #     for_valid['precision'] = precision\n",
        "# #     for_valid['recall'] = recall\n",
        "\n",
        "# for_valid = pd.DataFrame({'threshold': thresholds, 'precision':prec, 'recall':reca})\n",
        "\n",
        "#     for_valid[]\n",
        "#     print(precision, recall)\n",
        "\n",
        "def tpr_fpr_dataframe(y_val, y_pred):\n",
        "    scores = []\n",
        "\n",
        "    thresholds = np.linspace(0, 1, 101)\n",
        "\n",
        "    for t in thresholds:\n",
        "        actual_positive = (y_val == 1)\n",
        "        actual_negative = (y_val == 0)\n",
        "\n",
        "        predict_positive = (y_pred >= t)\n",
        "        predict_negative = (y_pred < t)\n",
        "\n",
        "        tp = (predict_positive & actual_positive).sum()\n",
        "        tn = (predict_negative & actual_negative).sum()\n",
        "\n",
        "        fp = (predict_positive & actual_negative).sum()\n",
        "        fn = (predict_negative & actual_positive).sum()\n",
        "\n",
        "        scores.append((t, tp, fp, fn, tn))\n",
        "\n",
        "    columns = ['threshold', 'tp', 'fp', 'fn', 'tn']\n",
        "    df_scores = pd.DataFrame(scores, columns=columns)\n",
        "\n",
        "    df_scores['tpr'] = df_scores.tp / (df_scores.tp + df_scores.fn)\n",
        "    df_scores['fpr'] = df_scores.fp / (df_scores.fp + df_scores.tn)\n",
        "    df_scores['recall'] = df_scores.tp / (df_scores.tp + df_scores.fn)\n",
        "    df_scores['precision'] = df_scores.tp / (df_scores.fp + df_scores.tp)\n",
        "\n",
        "    #     precision = true_positive / (true_positive + false_positive)\n",
        "#     recall = true_positive / (true_positive + false_negative)\n",
        "    \n",
        "    return df_scores\n",
        "plot_score = tpr_fpr_dataframe(y_val, y_pred)\n"
      ]
    },
    {
      "cell_type": "code",
      "execution_count": 99,
      "metadata": {
        "colab": {
          "base_uri": "https://localhost:8080/",
          "height": 228
        },
        "id": "PhIgIzphpg2U",
        "outputId": "43dc0948-4a95-4596-aa14-02dbc2104011"
      },
      "outputs": [
        {
          "output_type": "execute_result",
          "data": {
            "text/plain": [
              "<matplotlib.legend.Legend at 0x7f128c41d410>"
            ]
          },
          "metadata": {},
          "execution_count": 99
        },
        {
          "output_type": "display_data",
          "data": {
            "text/plain": [
              "<Figure size 1440x216 with 1 Axes>"
            ],
            "image/png": "[encoded data removed]"
          },
          "metadata": {
            "needs_background": "light"
          }
        }
      ],
      "source": [
        "plt.figure(figsize=(20, 3))\n",
        "\n",
        "# plt.plot(for_valid['threshold'], for_valid['precision'], color='orange', linestyle='solid', label='precision')\n",
        "# plt.plot(for_valid['threshold'], for_valid['recall'], color='blue', linestyle='dashed', label='recall')\n",
        "plt.plot(plot_score['threshold'], plot_score['precision'], color='orange', linestyle='solid', label='precision')\n",
        "plt.plot(plot_score['threshold'], plot_score['recall'], color='blue', linestyle='dashed', label='recall')\n",
        "plt.xticks(np.linspace(0, 1, 21))\n",
        "# plt.grid(1,np.linspace(0, 1, 10))\n",
        "plt.legend()"
      ]
    },
    {
      "cell_type": "markdown",
      "metadata": {
        "id": "cJHWugjSpg2U"
      },
      "source": [
        "## Q4"
      ]
    },
    {
      "cell_type": "code",
      "execution_count": 100,
      "metadata": {
        "id": "xFA8K6nopg2U"
      },
      "outputs": [],
      "source": [
        "# f1 = []\n",
        "# for p,r in zip(prec, reca):\n",
        "#     f1.append(2 * p * r /(p + r))\n",
        "for_valid['f1'] = 2 * for_valid['precision'] * for_valid['recall'] / (for_valid['precision'] + for_valid['recall'])"
      ]
    },
    {
      "cell_type": "code",
      "execution_count": 101,
      "metadata": {
        "colab": {
          "base_uri": "https://localhost:8080/",
          "height": 424
        },
        "id": "JhmOguGMpg2V",
        "outputId": "0d020217-15ea-4ac9-dd59-04ade41f11d4"
      },
      "outputs": [
        {
          "output_type": "execute_result",
          "data": {
            "text/plain": [
              "    threshold  precision    recall        f1\n",
              "0        0.00   0.795455  1.000000  0.886076\n",
              "1        0.01   0.867769  1.000000  0.929204\n",
              "2        0.02   0.878661  1.000000  0.935412\n",
              "3        0.03   0.893617  1.000000  0.943820\n",
              "4        0.04   0.908696  0.995238  0.950000\n",
              "..        ...        ...       ...       ...\n",
              "95       0.95   1.000000  0.966667  0.983051\n",
              "96       0.96   1.000000  0.961905  0.980583\n",
              "97       0.97   1.000000  0.957143  0.978102\n",
              "98       0.98   1.000000  0.957143  0.978102\n",
              "99       0.99   1.000000  0.957143  0.978102\n",
              "\n",
              "[100 rows x 4 columns]"
            ],
            "text/html": [
              "\n",
              "  <div id=\"df-2e7a93a7-4d79-45f2-b4ee-89aa62568ad2\">\n",
              "    <div class=\"colab-df-container\">\n",
              "      <div>\n",
              "<style scoped>\n",
              "    .dataframe tbody tr th:only-of-type {\n",
              "        vertical-align: middle;\n",
              "    }\n",
              "\n",
              "    .dataframe tbody tr th {\n",
              "        vertical-align: top;\n",
              "    }\n",
              "\n",
              "    .dataframe thead th {\n",
              "        text-align: right;\n",
              "    }\n",
              "</style>\n",
              "<table border=\"1\" class=\"dataframe\">\n",
              "  <thead>\n",
              "    <tr style=\"text-align: right;\">\n",
              "      <th></th>\n",
              "      <th>threshold</th>\n",
              "      <th>precision</th>\n",
              "      <th>recall</th>\n",
              "      <th>f1</th>\n",
              "    </tr>\n",
              "  </thead>\n",
              "  <tbody>\n",
              "    <tr>\n",
              "      <th>0</th>\n",
              "      <td>0.00</td>\n",
              "      <td>0.795455</td>\n",
              "      <td>1.000000</td>\n",
              "      <td>0.886076</td>\n",
              "    </tr>\n",
              "    <tr>\n",
              "      <th>1</th>\n",
              "      <td>0.01</td>\n",
              "      <td>0.867769</td>\n",
              "      <td>1.000000</td>\n",
              "      <td>0.929204</td>\n",
              "    </tr>\n",
              "    <tr>\n",
              "      <th>2</th>\n",
              "      <td>0.02</td>\n",
              "      <td>0.878661</td>\n",
              "      <td>1.000000</td>\n",
              "      <td>0.935412</td>\n",
              "    </tr>\n",
              "    <tr>\n",
              "      <th>3</th>\n",
              "      <td>0.03</td>\n",
              "      <td>0.893617</td>\n",
              "      <td>1.000000</td>\n",
              "      <td>0.943820</td>\n",
              "    </tr>\n",
              "    <tr>\n",
              "      <th>4</th>\n",
              "      <td>0.04</td>\n",
              "      <td>0.908696</td>\n",
              "      <td>0.995238</td>\n",
              "      <td>0.950000</td>\n",
              "    </tr>\n",
              "    <tr>\n",
              "      <th>...</th>\n",
              "      <td>...</td>\n",
              "      <td>...</td>\n",
              "      <td>...</td>\n",
              "      <td>...</td>\n",
              "    </tr>\n",
              "    <tr>\n",
              "      <th>95</th>\n",
              "      <td>0.95</td>\n",
              "      <td>1.000000</td>\n",
              "      <td>0.966667</td>\n",
              "      <td>0.983051</td>\n",
              "    </tr>\n",
              "    <tr>\n",
              "      <th>96</th>\n",
              "      <td>0.96</td>\n",
              "      <td>1.000000</td>\n",
              "      <td>0.961905</td>\n",
              "      <td>0.980583</td>\n",
              "    </tr>\n",
              "    <tr>\n",
              "      <th>97</th>\n",
              "      <td>0.97</td>\n",
              "      <td>1.000000</td>\n",
              "      <td>0.957143</td>\n",
              "      <td>0.978102</td>\n",
              "    </tr>\n",
              "    <tr>\n",
              "      <th>98</th>\n",
              "      <td>0.98</td>\n",
              "      <td>1.000000</td>\n",
              "      <td>0.957143</td>\n",
              "      <td>0.978102</td>\n",
              "    </tr>\n",
              "    <tr>\n",
              "      <th>99</th>\n",
              "      <td>0.99</td>\n",
              "      <td>1.000000</td>\n",
              "      <td>0.957143</td>\n",
              "      <td>0.978102</td>\n",
              "    </tr>\n",
              "  </tbody>\n",
              "</table>\n",
              "<p>100 rows × 4 columns</p>\n",
              "</div>\n",
              "      <button class=\"colab-df-convert\" onclick=\"convertToInteractive('df-2e7a93a7-4d79-45f2-b4ee-89aa62568ad2')\"\n",
              "              title=\"Convert this dataframe to an interactive table.\"\n",
              "              style=\"display:none;\">\n",
              "        \n",
              "  <svg xmlns=\"http://www.w3.org/2000/svg\" height=\"24px\"viewBox=\"0 0 24 24\"\n",
              "       width=\"24px\">\n",
              "    <path d=\"M0 0h24v24H0V0z\" fill=\"none\"/>\n",
              "    <path d=\"M18.56 5.44l.94 2.06.94-2.06 2.06-.94-2.06-.94-.94-2.06-.94 2.06-2.06.94zm-11 1L8.5 8.5l.94-2.06 2.06-.94-2.06-.94L8.5 2.5l-.94 2.06-2.06.94zm10 10l.94 2.06.94-2.06 2.06-.94-2.06-.94-.94-2.06-.94 2.06-2.06.94z\"/><path d=\"M17.41 7.96l-1.37-1.37c-.4-.4-.92-.59-1.43-.59-.52 0-1.04.2-1.43.59L10.3 9.45l-7.72 7.72c-.78.78-.78 2.05 0 2.83L4 21.41c.39.39.9.59 1.41.59.51 0 1.02-.2 1.41-.59l7.78-7.78 2.81-2.81c.8-.78.8-2.07 0-2.86zM5.41 20L4 18.59l7.72-7.72 1.47 1.35L5.41 20z\"/>\n",
              "  </svg>\n",
              "      </button>\n",
              "      \n",
              "  <style>\n",
              "    .colab-df-container {\n",
              "      display:flex;\n",
              "      flex-wrap:wrap;\n",
              "      gap: 12px;\n",
              "    }\n",
              "\n",
              "    .colab-df-convert {\n",
              "      background-color: #E8F0FE;\n",
              "      border: none;\n",
              "      border-radius: 50%;\n",
              "      cursor: pointer;\n",
              "      display: none;\n",
              "      fill: #1967D2;\n",
              "      height: 32px;\n",
              "      padding: 0 0 0 0;\n",
              "      width: 32px;\n",
              "    }\n",
              "\n",
              "    .colab-df-convert:hover {\n",
              "      background-color: #E2EBFA;\n",
              "      box-shadow: 0px 1px 2px rgba(60, 64, 67, 0.3), 0px 1px 3px 1px rgba(60, 64, 67, 0.15);\n",
              "      fill: #174EA6;\n",
              "    }\n",
              "\n",
              "    [theme=dark] .colab-df-convert {\n",
              "      background-color: #3B4455;\n",
              "      fill: #D2E3FC;\n",
              "    }\n",
              "\n",
              "    [theme=dark] .colab-df-convert:hover {\n",
              "      background-color: #434B5C;\n",
              "      box-shadow: 0px 1px 3px 1px rgba(0, 0, 0, 0.15);\n",
              "      filter: drop-shadow(0px 1px 2px rgba(0, 0, 0, 0.3));\n",
              "      fill: #FFFFFF;\n",
              "    }\n",
              "  </style>\n",
              "\n",
              "      <script>\n",
              "        const buttonEl =\n",
              "          document.querySelector('#df-2e7a93a7-4d79-45f2-b4ee-89aa62568ad2 button.colab-df-convert');\n",
              "        buttonEl.style.display =\n",
              "          google.colab.kernel.accessAllowed ? 'block' : 'none';\n",
              "\n",
              "        async function convertToInteractive(key) {\n",
              "          const element = document.querySelector('#df-2e7a93a7-4d79-45f2-b4ee-89aa62568ad2');\n",
              "          const dataTable =\n",
              "            await google.colab.kernel.invokeFunction('convertToInteractive',\n",
              "                                                     [key], {});\n",
              "          if (!dataTable) return;\n",
              "\n",
              "          const docLinkHtml = 'Like what you see? Visit the ' +\n",
              "            '<a target=\"_blank\" href=https://colab.research.google.com/notebooks/data_table.ipynb>data table notebook</a>'\n",
              "            + ' to learn more about interactive tables.';\n",
              "          element.innerHTML = '';\n",
              "          dataTable['output_type'] = 'display_data';\n",
              "          await google.colab.output.renderOutput(dataTable, element);\n",
              "          const docLink = document.createElement('div');\n",
              "          docLink.innerHTML = docLinkHtml;\n",
              "          element.appendChild(docLink);\n",
              "        }\n",
              "      </script>\n",
              "    </div>\n",
              "  </div>\n",
              "  "
            ]
          },
          "metadata": {},
          "execution_count": 101
        }
      ],
      "source": [
        "for_valid"
      ]
    },
    {
      "cell_type": "code",
      "execution_count": 102,
      "metadata": {
        "colab": {
          "base_uri": "https://localhost:8080/"
        },
        "id": "ub4ypFUzpg2V",
        "outputId": "b24686b3-ba1b-40db-bc55-4268a3185ac2"
      },
      "outputs": [
        {
          "output_type": "execute_result",
          "data": {
            "text/plain": [
              "21"
            ]
          },
          "metadata": {},
          "execution_count": 102
        }
      ],
      "source": [
        "for_valid['f1'].argmax()"
      ]
    },
    {
      "cell_type": "code",
      "execution_count": 103,
      "metadata": {
        "colab": {
          "base_uri": "https://localhost:8080/"
        },
        "id": "npIoqTewpg2W",
        "outputId": "bc2c0976-b7b6-4506-ce47-4d4cc8639c4c"
      },
      "outputs": [
        {
          "output_type": "execute_result",
          "data": {
            "text/plain": [
              "threshold    0.210000\n",
              "precision    1.000000\n",
              "recall       0.976190\n",
              "f1           0.987952\n",
              "Name: 21, dtype: float64"
            ]
          },
          "metadata": {},
          "execution_count": 103
        }
      ],
      "source": [
        "for_valid.iloc[for_valid['f1'].argmax()]"
      ]
    },
    {
      "cell_type": "markdown",
      "metadata": {
        "id": "2ct2DoZwpg2W"
      },
      "source": [
        "## Q5\n"
      ]
    },
    {
      "cell_type": "code",
      "execution_count": 104,
      "metadata": {
        "id": "osUDOtKfpg2W"
      },
      "outputs": [],
      "source": [
        "# df_train, df_val = train_test_split(df, test_size=0.4, random_state=1)\n",
        "df_train_full = df\n",
        "y_train_full = df_train_full['card']\n",
        "# del df_train_full['target']\n",
        "# del df_train_full['card']"
      ]
    },
    {
      "cell_type": "code",
      "execution_count": 105,
      "metadata": {
        "id": "aHu1nWA6pg2X"
      },
      "outputs": [],
      "source": [
        "# df_train_full"
      ]
    },
    {
      "cell_type": "code",
      "execution_count": 107,
      "metadata": {
        "id": "zi0aO1EVpg2X"
      },
      "outputs": [],
      "source": [
        "def train(df, y):\n",
        "    cat = df[features].to_dict(orient='records')\n",
        "    \n",
        "    dv = DictVectorizer(sparse=False)\n",
        "    dv.fit(cat)\n",
        "\n",
        "    X = dv.transform(cat)\n",
        "\n",
        "    model = LogisticRegression(solver='liblinear')\n",
        "    model.fit(X, y)\n",
        "\n",
        "    return dv, model\n",
        "\n",
        "\n",
        "def predict(df, dv, model):\n",
        "    cat = df[features].to_dict(orient='records')\n",
        "    \n",
        "    X = dv.transform(cat)\n",
        "\n",
        "    y_pred = model.predict_proba(X)[:, 1]\n",
        "\n",
        "    return y_pred\n",
        "\n",
        "\n",
        "aucs = []\n",
        "kfold = KFold(n_splits=5, shuffle=True, random_state=1)\n",
        "\n",
        "for train_idx, val_idx in kfold.split(df_train_full):\n",
        "    df_train = df_train_full.iloc[train_idx]\n",
        "    y_train = df_train.target.values\n",
        "\n",
        "    df_val = df_train_full.iloc[val_idx]\n",
        "    y_val = df_val.target.values\n",
        "\n",
        "    dv, model = train(df_train, y_train)\n",
        "    y_pred = predict(df_val, dv, model)\n",
        "\n",
        "    rocauc = roc_auc_score(y_val, y_pred)\n",
        "    aucs.append(rocauc)"
      ]
    },
    {
      "cell_type": "code",
      "execution_count": 108,
      "metadata": {
        "colab": {
          "base_uri": "https://localhost:8080/"
        },
        "id": "Jq09z3Rgpg2X",
        "outputId": "fe4203a3-ba64-4870-90bb-6d79a50dfcf1"
      },
      "outputs": [
        {
          "output_type": "execute_result",
          "data": {
            "text/plain": [
              "0.0015474755482891552"
            ]
          },
          "metadata": {},
          "execution_count": 108
        }
      ],
      "source": [
        "np.array(aucs).std()"
      ]
    },
    {
      "cell_type": "markdown",
      "metadata": {
        "id": "zHXEE7VJpg2Y"
      },
      "source": [
        "## Q6"
      ]
    },
    {
      "cell_type": "code",
      "execution_count": 109,
      "metadata": {
        "id": "GxSZuoSHpg2Y"
      },
      "outputs": [],
      "source": [
        "def train(df, y, C=1.0):\n",
        "    cat = df[features].to_dict(orient='records')\n",
        "    \n",
        "    dv = DictVectorizer(sparse=False)\n",
        "    dv.fit(cat)\n",
        "\n",
        "    X = dv.transform(cat)\n",
        "\n",
        "    model = LogisticRegression(solver='liblinear', C=C)\n",
        "    model.fit(X, y)\n",
        "\n",
        "    return dv, model"
      ]
    },
    {
      "cell_type": "code",
      "execution_count": 110,
      "metadata": {
        "colab": {
          "base_uri": "https://localhost:8080/"
        },
        "id": "m1oRsTsypg2Y",
        "outputId": "7e6a87e0-1379-4eb2-b201-b6b63303eabf"
      },
      "outputs": [
        {
          "output_type": "stream",
          "name": "stdout",
          "text": [
            "C=0.01, auc = 0.993 ± 0.004\n",
            "C=0.1, auc = 0.995 ± 0.002\n",
            "C=1, auc = 0.996 ± 0.002\n",
            "C=10, auc = 0.996 ± 0.001\n"
          ]
        }
      ],
      "source": [
        "for C in [0.01, 0.1, 1, 10]:\n",
        "    aucs = []\n",
        "\n",
        "    for train_idx, val_idx in kfold.split(df_train_full):\n",
        "        df_train = df_train_full.iloc[train_idx]\n",
        "        df_val = df_train_full.iloc[val_idx]\n",
        "\n",
        "        y_train = df_train.target.values\n",
        "        y_val = df_val.target.values\n",
        "\n",
        "        dv, model = train(df_train, y_train, C=C)\n",
        "        y_pred = predict(df_val, dv, model)\n",
        "        \n",
        "        auc = roc_auc_score(y_val, y_pred)\n",
        "        aucs.append(auc)\n",
        "\n",
        "    print('C=%s, auc = %0.3f ± %0.3f' % (C, np.mean(aucs), np.std(aucs)))"
      ]
    },
    {
      "cell_type": "code",
      "execution_count": null,
      "metadata": {
        "id": "wNp1I3K8pg2Z"
      },
      "outputs": [],
      "source": []
    }
  ],
  "metadata": {
    "kernelspec": {
      "display_name": "Python 3",
      "language": "python",
      "name": "python3"
    },
    "language_info": {
      "codemirror_mode": {
        "name": "ipython",
        "version": 3
      },
      "file_extension": ".py",
      "mimetype": "text/x-python",
      "name": "python",
      "nbconvert_exporter": "python",
      "pygments_lexer": "ipython3",
      "version": "3.8.3"
    },
    "colab": {
      "provenance": [],
      "include_colab_link": true
    }
  },
  "nbformat": 4,
  "nbformat_minor": 0
}